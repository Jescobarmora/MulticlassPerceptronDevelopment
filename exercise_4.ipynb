{
 "cells": [
  {
   "cell_type": "code",
   "execution_count": 3,
   "metadata": {},
   "outputs": [],
   "source": [
    "import numpy as np\n",
    "from sklearn.datasets import make_blobs\n",
    "import matplotlib.pyplot as plt\n",
    "\n",
    "class PerceptronMulticlass:\n",
    "    def __init__(self, learning_rate=0.01, n_iterations=1000, n_classes=3):\n",
    "        self.learning_rate = learning_rate\n",
    "        self.n_iterations = n_iterations\n",
    "        self.n_classes = n_classes\n",
    "        self.W = None\n",
    "        self.b = None\n",
    "\n",
    "    def step_function(self, x):\n",
    "        return np.where(x >= 0, 1, 0)\n",
    "\n",
    "    def fit(self, X, y):\n",
    "        n_samples, n_features = X.shape\n",
    "\n",
    "        # Initialize weight matrix W and bias vector b to zeros\n",
    "        self.W = np.zeros((self.n_classes, n_features))\n",
    "        self.b = np.zeros(self.n_classes)\n",
    "\n",
    "        # One vs Rest approach\n",
    "        for _ in range(self.n_iterations):\n",
    "            for idx, x_i in enumerate(X):\n",
    "                true_class = y[idx]\n",
    "\n",
    "                for j in range(self.n_classes):\n",
    "                    # Linear output zj = Wj · xi + bj\n",
    "                    z_j = np.dot(self.W[j], x_i) + self.b[j]\n",
    "                    \n",
    "                    # Activation function\n",
    "                    y_hat_j = self.step_function(z_j)\n",
    "\n",
    "                    # Actual class label for this binary classifier\n",
    "                    y_j = 1 if true_class == j else 0\n",
    "\n",
    "                    # Update weights and bias if the prediction is incorrect\n",
    "                    if y_hat_j != y_j:\n",
    "                        update = self.learning_rate * (y_j - y_hat_j)\n",
    "                        self.W[j] += update * x_i\n",
    "                        self.b[j] += update\n",
    "\n",
    "if __name__ == \"__main__\":\n",
    "    X, y = make_blobs(n_samples=100, centers=3, n_features=2, random_state=42)\n",
    "\n",
    "    # Initialize and train the multiclass perceptron\n",
    "    perceptron = PerceptronMulticlass(learning_rate=0.01, n_iterations=1000, n_classes=3)\n",
    "    perceptron.fit(X, y)"
   ]
  }
 ],
 "metadata": {
  "kernelspec": {
   "display_name": "api_class",
   "language": "python",
   "name": "python3"
  },
  "language_info": {
   "codemirror_mode": {
    "name": "ipython",
    "version": 3
   },
   "file_extension": ".py",
   "mimetype": "text/x-python",
   "name": "python",
   "nbconvert_exporter": "python",
   "pygments_lexer": "ipython3",
   "version": "3.10.12"
  }
 },
 "nbformat": 4,
 "nbformat_minor": 2
}
