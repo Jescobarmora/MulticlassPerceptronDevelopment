{
 "cells": [
  {
   "cell_type": "code",
   "execution_count": 4,
   "metadata": {},
   "outputs": [
    {
     "name": "stdout",
     "output_type": "stream",
     "text": [
      "Predictions: [2 1 0 1 2 1 0 1 1 0 0 2 2 0 0 2 2 0 2 2 0 2 2 0 0 0 1 2 2 2 2 1 1 2 0 0 0\n",
      " 0 1 1 2 0 1 0 0 1 2 2 2 1 1 1 0 2 2 2 0 0 1 0 2 1 2 1 2 2 1 2 1 1 1 2 2 0\n",
      " 1 2 1 2 1 1 0 1 0 2 0 0 0 1 0 1 1 1 0 1 0 0 0 1 2 0]\n"
     ]
    }
   ],
   "source": [
    "import numpy as np\n",
    "from sklearn.datasets import make_blobs\n",
    "import matplotlib.pyplot as plt\n",
    "\n",
    "class PerceptronMulticlass:\n",
    "    def __init__(self, learning_rate=0.01, n_iterations=1000, n_classes=3):\n",
    "        self.learning_rate = learning_rate\n",
    "        self.n_iterations = n_iterations\n",
    "        self.n_classes = n_classes\n",
    "        self.W = None\n",
    "        self.b = None\n",
    "\n",
    "    def step_function(self, x):\n",
    "        return np.where(x >= 0, 1, 0)\n",
    "\n",
    "    def fit(self, X, y):\n",
    "        n_samples, n_features = X.shape\n",
    "        # Initialize weight matrix W and bias vector b to zeros\n",
    "        self.W = np.zeros((self.n_classes, n_features))\n",
    "        self.b = np.zeros(self.n_classes)\n",
    "\n",
    "        # Training process (One vs Rest approach)\n",
    "        for _ in range(self.n_iterations):\n",
    "            for idx, x_i in enumerate(X):\n",
    "                true_class = y[idx]\n",
    "                for j in range(self.n_classes):\n",
    "                    z_j = np.dot(self.W[j], x_i) + self.b[j]\n",
    "                    y_hat_j = self.step_function(z_j)\n",
    "                    y_j = 1 if true_class == j else 0\n",
    "                    if y_hat_j != y_j:\n",
    "                        update = self.learning_rate * (y_j - y_hat_j)\n",
    "                        self.W[j] += update * x_i\n",
    "                        self.b[j] += update\n",
    "    \n",
    "    def predict(self, X):\n",
    "        # (a) Calculate Linear Output: z_j = W_j · x_i + b_j\n",
    "        linear_output = np.dot(X, self.W.T) + self.b\n",
    "        y_predicted = self.step_function(linear_output)\n",
    "        \n",
    "        # (b) Class Selection: Use argmax to select the class with the highest output\n",
    "        return np.argmax(y_predicted, axis=1)\n",
    "\n",
    "# Example usage:\n",
    "if __name__ == \"__main__\":\n",
    "    X, y = make_blobs(n_samples=100, centers=3, n_features=2, random_state=42)\n",
    "\n",
    "    # Initialize and train the multiclass perceptron\n",
    "    perceptron = PerceptronMulticlass(learning_rate=0.01, n_iterations=1000, n_classes=3)\n",
    "    perceptron.fit(X, y)\n",
    "\n",
    "    # Make predictions on new samples\n",
    "    predictions = perceptron.predict(X)\n",
    "    print(\"Predictions:\", predictions)\n"
   ]
  }
 ],
 "metadata": {
  "kernelspec": {
   "display_name": "api_class",
   "language": "python",
   "name": "python3"
  },
  "language_info": {
   "codemirror_mode": {
    "name": "ipython",
    "version": 3
   },
   "file_extension": ".py",
   "mimetype": "text/x-python",
   "name": "python",
   "nbconvert_exporter": "python",
   "pygments_lexer": "ipython3",
   "version": "3.10.12"
  }
 },
 "nbformat": 4,
 "nbformat_minor": 2
}
